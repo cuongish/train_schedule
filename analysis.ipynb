{
 "cells": [
  {
   "cell_type": "code",
   "execution_count": 48,
   "metadata": {},
   "outputs": [],
   "source": [
    "import os\n",
    "\n",
    "import pandas as pd\n",
    "\n",
    "from demo import path"
   ]
  },
  {
   "cell_type": "markdown",
   "metadata": {
    "pycharm": {
     "name": "#%% md\n"
    }
   },
   "source": [
    "Load `2020-07.csv`"
   ]
  },
  {
   "cell_type": "code",
   "execution_count": null,
   "outputs": [],
   "source": [
    "file_path = os.path.join(path, f\"2020-07.csv\")\n",
    "\n",
    "df = pd.read_csv(file_path)"
   ],
   "metadata": {
    "collapsed": false,
    "pycharm": {
     "name": "#%%\n"
    }
   }
  },
  {
   "cell_type": "markdown",
   "source": [
    "## Assumption\n",
    "Since the data legend has no clear indication of final destination, it is fair to have assumed the last station of each\n",
    "day is the final destination, thus in this demo, `HKI` station is filtered out."
   ],
   "metadata": {
    "collapsed": false
   }
  },
  {
   "cell_type": "code",
   "execution_count": 50,
   "outputs": [
    {
     "data": {
      "text/plain": "      Unnamed: 0 stationShortCode  stationUICCode countryCode     type  \\\n133        133.0              HKI             1.0          FI  ARRIVAL   \n267        133.0              HKI             1.0          FI  ARRIVAL   \n401        133.0              HKI             1.0          FI  ARRIVAL   \n535        133.0              HKI             1.0          FI  ARRIVAL   \n669        133.0              HKI             1.0          FI  ARRIVAL   \n803        133.0              HKI             1.0          FI  ARRIVAL   \n937        133.0              HKI             1.0          FI  ARRIVAL   \n1071       133.0              HKI             1.0          FI  ARRIVAL   \n1205       133.0              HKI             1.0          FI  ARRIVAL   \n1293        87.0              HKI             1.0          FI  ARRIVAL   \n1427       133.0              HKI             1.0          FI  ARRIVAL   \n1561       133.0              HKI             1.0          FI  ARRIVAL   \n1695       133.0              HKI             1.0          FI  ARRIVAL   \n1829       133.0              HKI             1.0          FI  ARRIVAL   \n1963       133.0              HKI             1.0          FI  ARRIVAL   \n2097       133.0              HKI             1.0          FI  ARRIVAL   \n2231       133.0              HKI             1.0          FI  ARRIVAL   \n2365       133.0              HKI             1.0          FI  ARRIVAL   \n2499       133.0              HKI             1.0          FI  ARRIVAL   \n2633       133.0              HKI             1.0          FI  ARRIVAL   \n2767       133.0              HKI             1.0          FI  ARRIVAL   \n2901       133.0              HKI             1.0          FI  ARRIVAL   \n3035       133.0              HKI             1.0          FI  ARRIVAL   \n3169       133.0              HKI             1.0          FI  ARRIVAL   \n3303       133.0              HKI             1.0          FI  ARRIVAL   \n3437       133.0              HKI             1.0          FI  ARRIVAL   \n3571       133.0              HKI             1.0          FI  ARRIVAL   \n\n     trainStopping commercialStop  commercialTrack cancelled  \\\n133           True           True              8.0     False   \n267           True           True              8.0     False   \n401           True           True              8.0     False   \n535           True           True              8.0     False   \n669           True           True              7.0     False   \n803           True           True              8.0     False   \n937           True           True              8.0     False   \n1071          True           True              8.0     False   \n1205          True           True              8.0     False   \n1293          True           True              8.0     False   \n1427          True           True              8.0     False   \n1561          True           True              8.0     False   \n1695          True           True              8.0     False   \n1829          True           True              8.0     False   \n1963          True           True              8.0     False   \n2097          True           True              8.0     False   \n2231          True           True             11.0     False   \n2365          True           True              8.0     False   \n2499          True           True              8.0     False   \n2633          True           True              8.0     False   \n2767          True           True              7.0     False   \n2901          True           True              8.0     False   \n3035          True           True              8.0     False   \n3169          True           True              8.0     False   \n3303          True           True              8.0     False   \n3437          True           True              7.0     False   \n3571          True           True              8.0     False   \n\n                 scheduledTime  ... meta_operatorUICCode  \\\n133   2020-07-01T07:52:00.000Z  ...                 10.0   \n267   2020-07-02T07:52:00.000Z  ...                 10.0   \n401   2020-07-03T07:52:00.000Z  ...                 10.0   \n535   2020-07-04T07:52:00.000Z  ...                 10.0   \n669   2020-07-06T07:52:00.000Z  ...                 10.0   \n803   2020-07-07T07:52:00.000Z  ...                 10.0   \n937   2020-07-08T07:52:00.000Z  ...                 10.0   \n1071  2020-07-09T07:52:00.000Z  ...                 10.0   \n1205  2020-07-10T07:52:00.000Z  ...                 10.0   \n1293  2020-07-11T07:52:00.000Z  ...                 10.0   \n1427  2020-07-13T07:52:00.000Z  ...                 10.0   \n1561  2020-07-14T07:52:00.000Z  ...                 10.0   \n1695  2020-07-15T07:52:00.000Z  ...                 10.0   \n1829  2020-07-16T07:52:00.000Z  ...                 10.0   \n1963  2020-07-17T07:52:00.000Z  ...                 10.0   \n2097  2020-07-18T07:52:00.000Z  ...                 10.0   \n2231  2020-07-20T07:52:00.000Z  ...                 10.0   \n2365  2020-07-21T07:52:00.000Z  ...                 10.0   \n2499  2020-07-22T07:52:00.000Z  ...                 10.0   \n2633  2020-07-23T07:52:00.000Z  ...                 10.0   \n2767  2020-07-24T07:52:00.000Z  ...                 10.0   \n2901  2020-07-25T07:52:00.000Z  ...                 10.0   \n3035  2020-07-27T07:52:00.000Z  ...                 10.0   \n3169  2020-07-28T07:52:00.000Z  ...                 10.0   \n3303  2020-07-29T07:52:00.000Z  ...                 10.0   \n3437  2020-07-30T07:52:00.000Z  ...                 10.0   \n3571  2020-07-31T07:52:00.000Z  ...                 10.0   \n\n      meta_operatorShortCode meta_trainType meta_trainCategory  \\\n133                       vr             IC      Long-distance   \n267                       vr             IC      Long-distance   \n401                       vr             IC      Long-distance   \n535                       vr             IC      Long-distance   \n669                       vr             IC      Long-distance   \n803                       vr             IC      Long-distance   \n937                       vr             IC      Long-distance   \n1071                      vr             IC      Long-distance   \n1205                      vr             IC      Long-distance   \n1293                      vr             IC      Long-distance   \n1427                      vr             IC      Long-distance   \n1561                      vr             IC      Long-distance   \n1695                      vr             IC      Long-distance   \n1829                      vr             IC      Long-distance   \n1963                      vr             IC      Long-distance   \n2097                      vr             IC      Long-distance   \n2231                      vr             IC      Long-distance   \n2365                      vr             IC      Long-distance   \n2499                      vr             IC      Long-distance   \n2633                      vr             IC      Long-distance   \n2767                      vr             IC      Long-distance   \n2901                      vr             IC      Long-distance   \n3035                      vr             IC      Long-distance   \n3169                      vr             IC      Long-distance   \n3303                      vr             IC      Long-distance   \n3437                      vr             IC      Long-distance   \n3571                      vr             IC      Long-distance   \n\n     meta_commuterLineID meta_runningCurrently meta_cancelled  meta_version  \\\n133                  NaN                 False          False  2.766041e+11   \n267                  NaN                 False          False  2.766041e+11   \n401                  NaN                 False          False  2.766041e+11   \n535                  NaN                 False          False  2.739552e+11   \n669                  NaN                 False          False  2.739738e+11   \n803                  NaN                 False          False  2.739854e+11   \n937                  NaN                 False          False  2.739954e+11   \n1071                 NaN                 False          False  2.766042e+11   \n1205                 NaN                 False          False  2.766042e+11   \n1293                 NaN                 False          False  2.740276e+11   \n1427                 NaN                 False          False  2.766042e+11   \n1561                 NaN                 False          False  2.740556e+11   \n1695                 NaN                 False          False  2.740657e+11   \n1829                 NaN                 False          False  2.740755e+11   \n1963                 NaN                 False          False  2.766043e+11   \n2097                 NaN                 False          False  2.766043e+11   \n2231                 NaN                 False          False  2.766043e+11   \n2365                 NaN                 False          False  2.766043e+11   \n2499                 NaN                 False          False  2.766043e+11   \n2633                 NaN                 False          False  2.766043e+11   \n2767                 NaN                 False          False  2.766043e+11   \n2901                 NaN                 False          False  2.766043e+11   \n3035                 NaN                 False          False  2.766043e+11   \n3169                 NaN                 False          False  2.766043e+11   \n3303                 NaN                 False          False  2.766043e+11   \n3437                 NaN                 False          False  2.766043e+11   \n3571                 NaN                 False          False  2.742376e+11   \n\n      meta_timetableType meta_timetableAcceptanceDate  \n133              REGULAR     2020-05-15T09:46:07.000Z  \n267              REGULAR     2020-05-15T09:46:07.000Z  \n401              REGULAR     2020-05-15T09:46:07.000Z  \n535              REGULAR     2020-05-15T09:46:07.000Z  \n669              REGULAR     2020-05-15T09:46:07.000Z  \n803              REGULAR     2020-05-15T09:46:07.000Z  \n937              REGULAR     2020-05-15T09:46:07.000Z  \n1071             REGULAR     2020-05-15T09:46:07.000Z  \n1205             REGULAR     2020-05-15T09:46:07.000Z  \n1293             REGULAR     2020-05-15T09:46:07.000Z  \n1427             REGULAR     2020-05-15T09:46:07.000Z  \n1561             REGULAR     2020-05-15T09:46:07.000Z  \n1695             REGULAR     2020-05-15T09:46:07.000Z  \n1829             REGULAR     2020-05-15T09:46:07.000Z  \n1963             REGULAR     2020-05-15T09:46:07.000Z  \n2097             REGULAR     2020-05-15T09:46:07.000Z  \n2231             REGULAR     2020-05-15T09:46:07.000Z  \n2365             REGULAR     2020-05-15T09:46:07.000Z  \n2499             REGULAR     2020-05-15T09:46:07.000Z  \n2633             REGULAR     2020-05-15T09:46:07.000Z  \n2767             REGULAR     2020-05-15T09:46:07.000Z  \n2901             REGULAR     2020-05-15T09:46:07.000Z  \n3035             REGULAR     2020-05-15T09:46:07.000Z  \n3169             REGULAR     2020-05-15T09:46:07.000Z  \n3303             REGULAR     2020-05-15T09:46:07.000Z  \n3437             REGULAR     2020-05-15T09:46:07.000Z  \n3571             REGULAR     2020-05-15T09:46:07.000Z  \n\n[27 rows x 30 columns]",
      "text/html": "<div>\n<style scoped>\n    .dataframe tbody tr th:only-of-type {\n        vertical-align: middle;\n    }\n\n    .dataframe tbody tr th {\n        vertical-align: top;\n    }\n\n    .dataframe thead th {\n        text-align: right;\n    }\n</style>\n<table border=\"1\" class=\"dataframe\">\n  <thead>\n    <tr style=\"text-align: right;\">\n      <th></th>\n      <th>Unnamed: 0</th>\n      <th>stationShortCode</th>\n      <th>stationUICCode</th>\n      <th>countryCode</th>\n      <th>type</th>\n      <th>trainStopping</th>\n      <th>commercialStop</th>\n      <th>commercialTrack</th>\n      <th>cancelled</th>\n      <th>scheduledTime</th>\n      <th>...</th>\n      <th>meta_operatorUICCode</th>\n      <th>meta_operatorShortCode</th>\n      <th>meta_trainType</th>\n      <th>meta_trainCategory</th>\n      <th>meta_commuterLineID</th>\n      <th>meta_runningCurrently</th>\n      <th>meta_cancelled</th>\n      <th>meta_version</th>\n      <th>meta_timetableType</th>\n      <th>meta_timetableAcceptanceDate</th>\n    </tr>\n  </thead>\n  <tbody>\n    <tr>\n      <th>133</th>\n      <td>133.0</td>\n      <td>HKI</td>\n      <td>1.0</td>\n      <td>FI</td>\n      <td>ARRIVAL</td>\n      <td>True</td>\n      <td>True</td>\n      <td>8.0</td>\n      <td>False</td>\n      <td>2020-07-01T07:52:00.000Z</td>\n      <td>...</td>\n      <td>10.0</td>\n      <td>vr</td>\n      <td>IC</td>\n      <td>Long-distance</td>\n      <td>NaN</td>\n      <td>False</td>\n      <td>False</td>\n      <td>2.766041e+11</td>\n      <td>REGULAR</td>\n      <td>2020-05-15T09:46:07.000Z</td>\n    </tr>\n    <tr>\n      <th>267</th>\n      <td>133.0</td>\n      <td>HKI</td>\n      <td>1.0</td>\n      <td>FI</td>\n      <td>ARRIVAL</td>\n      <td>True</td>\n      <td>True</td>\n      <td>8.0</td>\n      <td>False</td>\n      <td>2020-07-02T07:52:00.000Z</td>\n      <td>...</td>\n      <td>10.0</td>\n      <td>vr</td>\n      <td>IC</td>\n      <td>Long-distance</td>\n      <td>NaN</td>\n      <td>False</td>\n      <td>False</td>\n      <td>2.766041e+11</td>\n      <td>REGULAR</td>\n      <td>2020-05-15T09:46:07.000Z</td>\n    </tr>\n    <tr>\n      <th>401</th>\n      <td>133.0</td>\n      <td>HKI</td>\n      <td>1.0</td>\n      <td>FI</td>\n      <td>ARRIVAL</td>\n      <td>True</td>\n      <td>True</td>\n      <td>8.0</td>\n      <td>False</td>\n      <td>2020-07-03T07:52:00.000Z</td>\n      <td>...</td>\n      <td>10.0</td>\n      <td>vr</td>\n      <td>IC</td>\n      <td>Long-distance</td>\n      <td>NaN</td>\n      <td>False</td>\n      <td>False</td>\n      <td>2.766041e+11</td>\n      <td>REGULAR</td>\n      <td>2020-05-15T09:46:07.000Z</td>\n    </tr>\n    <tr>\n      <th>535</th>\n      <td>133.0</td>\n      <td>HKI</td>\n      <td>1.0</td>\n      <td>FI</td>\n      <td>ARRIVAL</td>\n      <td>True</td>\n      <td>True</td>\n      <td>8.0</td>\n      <td>False</td>\n      <td>2020-07-04T07:52:00.000Z</td>\n      <td>...</td>\n      <td>10.0</td>\n      <td>vr</td>\n      <td>IC</td>\n      <td>Long-distance</td>\n      <td>NaN</td>\n      <td>False</td>\n      <td>False</td>\n      <td>2.739552e+11</td>\n      <td>REGULAR</td>\n      <td>2020-05-15T09:46:07.000Z</td>\n    </tr>\n    <tr>\n      <th>669</th>\n      <td>133.0</td>\n      <td>HKI</td>\n      <td>1.0</td>\n      <td>FI</td>\n      <td>ARRIVAL</td>\n      <td>True</td>\n      <td>True</td>\n      <td>7.0</td>\n      <td>False</td>\n      <td>2020-07-06T07:52:00.000Z</td>\n      <td>...</td>\n      <td>10.0</td>\n      <td>vr</td>\n      <td>IC</td>\n      <td>Long-distance</td>\n      <td>NaN</td>\n      <td>False</td>\n      <td>False</td>\n      <td>2.739738e+11</td>\n      <td>REGULAR</td>\n      <td>2020-05-15T09:46:07.000Z</td>\n    </tr>\n    <tr>\n      <th>803</th>\n      <td>133.0</td>\n      <td>HKI</td>\n      <td>1.0</td>\n      <td>FI</td>\n      <td>ARRIVAL</td>\n      <td>True</td>\n      <td>True</td>\n      <td>8.0</td>\n      <td>False</td>\n      <td>2020-07-07T07:52:00.000Z</td>\n      <td>...</td>\n      <td>10.0</td>\n      <td>vr</td>\n      <td>IC</td>\n      <td>Long-distance</td>\n      <td>NaN</td>\n      <td>False</td>\n      <td>False</td>\n      <td>2.739854e+11</td>\n      <td>REGULAR</td>\n      <td>2020-05-15T09:46:07.000Z</td>\n    </tr>\n    <tr>\n      <th>937</th>\n      <td>133.0</td>\n      <td>HKI</td>\n      <td>1.0</td>\n      <td>FI</td>\n      <td>ARRIVAL</td>\n      <td>True</td>\n      <td>True</td>\n      <td>8.0</td>\n      <td>False</td>\n      <td>2020-07-08T07:52:00.000Z</td>\n      <td>...</td>\n      <td>10.0</td>\n      <td>vr</td>\n      <td>IC</td>\n      <td>Long-distance</td>\n      <td>NaN</td>\n      <td>False</td>\n      <td>False</td>\n      <td>2.739954e+11</td>\n      <td>REGULAR</td>\n      <td>2020-05-15T09:46:07.000Z</td>\n    </tr>\n    <tr>\n      <th>1071</th>\n      <td>133.0</td>\n      <td>HKI</td>\n      <td>1.0</td>\n      <td>FI</td>\n      <td>ARRIVAL</td>\n      <td>True</td>\n      <td>True</td>\n      <td>8.0</td>\n      <td>False</td>\n      <td>2020-07-09T07:52:00.000Z</td>\n      <td>...</td>\n      <td>10.0</td>\n      <td>vr</td>\n      <td>IC</td>\n      <td>Long-distance</td>\n      <td>NaN</td>\n      <td>False</td>\n      <td>False</td>\n      <td>2.766042e+11</td>\n      <td>REGULAR</td>\n      <td>2020-05-15T09:46:07.000Z</td>\n    </tr>\n    <tr>\n      <th>1205</th>\n      <td>133.0</td>\n      <td>HKI</td>\n      <td>1.0</td>\n      <td>FI</td>\n      <td>ARRIVAL</td>\n      <td>True</td>\n      <td>True</td>\n      <td>8.0</td>\n      <td>False</td>\n      <td>2020-07-10T07:52:00.000Z</td>\n      <td>...</td>\n      <td>10.0</td>\n      <td>vr</td>\n      <td>IC</td>\n      <td>Long-distance</td>\n      <td>NaN</td>\n      <td>False</td>\n      <td>False</td>\n      <td>2.766042e+11</td>\n      <td>REGULAR</td>\n      <td>2020-05-15T09:46:07.000Z</td>\n    </tr>\n    <tr>\n      <th>1293</th>\n      <td>87.0</td>\n      <td>HKI</td>\n      <td>1.0</td>\n      <td>FI</td>\n      <td>ARRIVAL</td>\n      <td>True</td>\n      <td>True</td>\n      <td>8.0</td>\n      <td>False</td>\n      <td>2020-07-11T07:52:00.000Z</td>\n      <td>...</td>\n      <td>10.0</td>\n      <td>vr</td>\n      <td>IC</td>\n      <td>Long-distance</td>\n      <td>NaN</td>\n      <td>False</td>\n      <td>False</td>\n      <td>2.740276e+11</td>\n      <td>REGULAR</td>\n      <td>2020-05-15T09:46:07.000Z</td>\n    </tr>\n    <tr>\n      <th>1427</th>\n      <td>133.0</td>\n      <td>HKI</td>\n      <td>1.0</td>\n      <td>FI</td>\n      <td>ARRIVAL</td>\n      <td>True</td>\n      <td>True</td>\n      <td>8.0</td>\n      <td>False</td>\n      <td>2020-07-13T07:52:00.000Z</td>\n      <td>...</td>\n      <td>10.0</td>\n      <td>vr</td>\n      <td>IC</td>\n      <td>Long-distance</td>\n      <td>NaN</td>\n      <td>False</td>\n      <td>False</td>\n      <td>2.766042e+11</td>\n      <td>REGULAR</td>\n      <td>2020-05-15T09:46:07.000Z</td>\n    </tr>\n    <tr>\n      <th>1561</th>\n      <td>133.0</td>\n      <td>HKI</td>\n      <td>1.0</td>\n      <td>FI</td>\n      <td>ARRIVAL</td>\n      <td>True</td>\n      <td>True</td>\n      <td>8.0</td>\n      <td>False</td>\n      <td>2020-07-14T07:52:00.000Z</td>\n      <td>...</td>\n      <td>10.0</td>\n      <td>vr</td>\n      <td>IC</td>\n      <td>Long-distance</td>\n      <td>NaN</td>\n      <td>False</td>\n      <td>False</td>\n      <td>2.740556e+11</td>\n      <td>REGULAR</td>\n      <td>2020-05-15T09:46:07.000Z</td>\n    </tr>\n    <tr>\n      <th>1695</th>\n      <td>133.0</td>\n      <td>HKI</td>\n      <td>1.0</td>\n      <td>FI</td>\n      <td>ARRIVAL</td>\n      <td>True</td>\n      <td>True</td>\n      <td>8.0</td>\n      <td>False</td>\n      <td>2020-07-15T07:52:00.000Z</td>\n      <td>...</td>\n      <td>10.0</td>\n      <td>vr</td>\n      <td>IC</td>\n      <td>Long-distance</td>\n      <td>NaN</td>\n      <td>False</td>\n      <td>False</td>\n      <td>2.740657e+11</td>\n      <td>REGULAR</td>\n      <td>2020-05-15T09:46:07.000Z</td>\n    </tr>\n    <tr>\n      <th>1829</th>\n      <td>133.0</td>\n      <td>HKI</td>\n      <td>1.0</td>\n      <td>FI</td>\n      <td>ARRIVAL</td>\n      <td>True</td>\n      <td>True</td>\n      <td>8.0</td>\n      <td>False</td>\n      <td>2020-07-16T07:52:00.000Z</td>\n      <td>...</td>\n      <td>10.0</td>\n      <td>vr</td>\n      <td>IC</td>\n      <td>Long-distance</td>\n      <td>NaN</td>\n      <td>False</td>\n      <td>False</td>\n      <td>2.740755e+11</td>\n      <td>REGULAR</td>\n      <td>2020-05-15T09:46:07.000Z</td>\n    </tr>\n    <tr>\n      <th>1963</th>\n      <td>133.0</td>\n      <td>HKI</td>\n      <td>1.0</td>\n      <td>FI</td>\n      <td>ARRIVAL</td>\n      <td>True</td>\n      <td>True</td>\n      <td>8.0</td>\n      <td>False</td>\n      <td>2020-07-17T07:52:00.000Z</td>\n      <td>...</td>\n      <td>10.0</td>\n      <td>vr</td>\n      <td>IC</td>\n      <td>Long-distance</td>\n      <td>NaN</td>\n      <td>False</td>\n      <td>False</td>\n      <td>2.766043e+11</td>\n      <td>REGULAR</td>\n      <td>2020-05-15T09:46:07.000Z</td>\n    </tr>\n    <tr>\n      <th>2097</th>\n      <td>133.0</td>\n      <td>HKI</td>\n      <td>1.0</td>\n      <td>FI</td>\n      <td>ARRIVAL</td>\n      <td>True</td>\n      <td>True</td>\n      <td>8.0</td>\n      <td>False</td>\n      <td>2020-07-18T07:52:00.000Z</td>\n      <td>...</td>\n      <td>10.0</td>\n      <td>vr</td>\n      <td>IC</td>\n      <td>Long-distance</td>\n      <td>NaN</td>\n      <td>False</td>\n      <td>False</td>\n      <td>2.766043e+11</td>\n      <td>REGULAR</td>\n      <td>2020-05-15T09:46:07.000Z</td>\n    </tr>\n    <tr>\n      <th>2231</th>\n      <td>133.0</td>\n      <td>HKI</td>\n      <td>1.0</td>\n      <td>FI</td>\n      <td>ARRIVAL</td>\n      <td>True</td>\n      <td>True</td>\n      <td>11.0</td>\n      <td>False</td>\n      <td>2020-07-20T07:52:00.000Z</td>\n      <td>...</td>\n      <td>10.0</td>\n      <td>vr</td>\n      <td>IC</td>\n      <td>Long-distance</td>\n      <td>NaN</td>\n      <td>False</td>\n      <td>False</td>\n      <td>2.766043e+11</td>\n      <td>REGULAR</td>\n      <td>2020-05-15T09:46:07.000Z</td>\n    </tr>\n    <tr>\n      <th>2365</th>\n      <td>133.0</td>\n      <td>HKI</td>\n      <td>1.0</td>\n      <td>FI</td>\n      <td>ARRIVAL</td>\n      <td>True</td>\n      <td>True</td>\n      <td>8.0</td>\n      <td>False</td>\n      <td>2020-07-21T07:52:00.000Z</td>\n      <td>...</td>\n      <td>10.0</td>\n      <td>vr</td>\n      <td>IC</td>\n      <td>Long-distance</td>\n      <td>NaN</td>\n      <td>False</td>\n      <td>False</td>\n      <td>2.766043e+11</td>\n      <td>REGULAR</td>\n      <td>2020-05-15T09:46:07.000Z</td>\n    </tr>\n    <tr>\n      <th>2499</th>\n      <td>133.0</td>\n      <td>HKI</td>\n      <td>1.0</td>\n      <td>FI</td>\n      <td>ARRIVAL</td>\n      <td>True</td>\n      <td>True</td>\n      <td>8.0</td>\n      <td>False</td>\n      <td>2020-07-22T07:52:00.000Z</td>\n      <td>...</td>\n      <td>10.0</td>\n      <td>vr</td>\n      <td>IC</td>\n      <td>Long-distance</td>\n      <td>NaN</td>\n      <td>False</td>\n      <td>False</td>\n      <td>2.766043e+11</td>\n      <td>REGULAR</td>\n      <td>2020-05-15T09:46:07.000Z</td>\n    </tr>\n    <tr>\n      <th>2633</th>\n      <td>133.0</td>\n      <td>HKI</td>\n      <td>1.0</td>\n      <td>FI</td>\n      <td>ARRIVAL</td>\n      <td>True</td>\n      <td>True</td>\n      <td>8.0</td>\n      <td>False</td>\n      <td>2020-07-23T07:52:00.000Z</td>\n      <td>...</td>\n      <td>10.0</td>\n      <td>vr</td>\n      <td>IC</td>\n      <td>Long-distance</td>\n      <td>NaN</td>\n      <td>False</td>\n      <td>False</td>\n      <td>2.766043e+11</td>\n      <td>REGULAR</td>\n      <td>2020-05-15T09:46:07.000Z</td>\n    </tr>\n    <tr>\n      <th>2767</th>\n      <td>133.0</td>\n      <td>HKI</td>\n      <td>1.0</td>\n      <td>FI</td>\n      <td>ARRIVAL</td>\n      <td>True</td>\n      <td>True</td>\n      <td>7.0</td>\n      <td>False</td>\n      <td>2020-07-24T07:52:00.000Z</td>\n      <td>...</td>\n      <td>10.0</td>\n      <td>vr</td>\n      <td>IC</td>\n      <td>Long-distance</td>\n      <td>NaN</td>\n      <td>False</td>\n      <td>False</td>\n      <td>2.766043e+11</td>\n      <td>REGULAR</td>\n      <td>2020-05-15T09:46:07.000Z</td>\n    </tr>\n    <tr>\n      <th>2901</th>\n      <td>133.0</td>\n      <td>HKI</td>\n      <td>1.0</td>\n      <td>FI</td>\n      <td>ARRIVAL</td>\n      <td>True</td>\n      <td>True</td>\n      <td>8.0</td>\n      <td>False</td>\n      <td>2020-07-25T07:52:00.000Z</td>\n      <td>...</td>\n      <td>10.0</td>\n      <td>vr</td>\n      <td>IC</td>\n      <td>Long-distance</td>\n      <td>NaN</td>\n      <td>False</td>\n      <td>False</td>\n      <td>2.766043e+11</td>\n      <td>REGULAR</td>\n      <td>2020-05-15T09:46:07.000Z</td>\n    </tr>\n    <tr>\n      <th>3035</th>\n      <td>133.0</td>\n      <td>HKI</td>\n      <td>1.0</td>\n      <td>FI</td>\n      <td>ARRIVAL</td>\n      <td>True</td>\n      <td>True</td>\n      <td>8.0</td>\n      <td>False</td>\n      <td>2020-07-27T07:52:00.000Z</td>\n      <td>...</td>\n      <td>10.0</td>\n      <td>vr</td>\n      <td>IC</td>\n      <td>Long-distance</td>\n      <td>NaN</td>\n      <td>False</td>\n      <td>False</td>\n      <td>2.766043e+11</td>\n      <td>REGULAR</td>\n      <td>2020-05-15T09:46:07.000Z</td>\n    </tr>\n    <tr>\n      <th>3169</th>\n      <td>133.0</td>\n      <td>HKI</td>\n      <td>1.0</td>\n      <td>FI</td>\n      <td>ARRIVAL</td>\n      <td>True</td>\n      <td>True</td>\n      <td>8.0</td>\n      <td>False</td>\n      <td>2020-07-28T07:52:00.000Z</td>\n      <td>...</td>\n      <td>10.0</td>\n      <td>vr</td>\n      <td>IC</td>\n      <td>Long-distance</td>\n      <td>NaN</td>\n      <td>False</td>\n      <td>False</td>\n      <td>2.766043e+11</td>\n      <td>REGULAR</td>\n      <td>2020-05-15T09:46:07.000Z</td>\n    </tr>\n    <tr>\n      <th>3303</th>\n      <td>133.0</td>\n      <td>HKI</td>\n      <td>1.0</td>\n      <td>FI</td>\n      <td>ARRIVAL</td>\n      <td>True</td>\n      <td>True</td>\n      <td>8.0</td>\n      <td>False</td>\n      <td>2020-07-29T07:52:00.000Z</td>\n      <td>...</td>\n      <td>10.0</td>\n      <td>vr</td>\n      <td>IC</td>\n      <td>Long-distance</td>\n      <td>NaN</td>\n      <td>False</td>\n      <td>False</td>\n      <td>2.766043e+11</td>\n      <td>REGULAR</td>\n      <td>2020-05-15T09:46:07.000Z</td>\n    </tr>\n    <tr>\n      <th>3437</th>\n      <td>133.0</td>\n      <td>HKI</td>\n      <td>1.0</td>\n      <td>FI</td>\n      <td>ARRIVAL</td>\n      <td>True</td>\n      <td>True</td>\n      <td>7.0</td>\n      <td>False</td>\n      <td>2020-07-30T07:52:00.000Z</td>\n      <td>...</td>\n      <td>10.0</td>\n      <td>vr</td>\n      <td>IC</td>\n      <td>Long-distance</td>\n      <td>NaN</td>\n      <td>False</td>\n      <td>False</td>\n      <td>2.766043e+11</td>\n      <td>REGULAR</td>\n      <td>2020-05-15T09:46:07.000Z</td>\n    </tr>\n    <tr>\n      <th>3571</th>\n      <td>133.0</td>\n      <td>HKI</td>\n      <td>1.0</td>\n      <td>FI</td>\n      <td>ARRIVAL</td>\n      <td>True</td>\n      <td>True</td>\n      <td>8.0</td>\n      <td>False</td>\n      <td>2020-07-31T07:52:00.000Z</td>\n      <td>...</td>\n      <td>10.0</td>\n      <td>vr</td>\n      <td>IC</td>\n      <td>Long-distance</td>\n      <td>NaN</td>\n      <td>False</td>\n      <td>False</td>\n      <td>2.742376e+11</td>\n      <td>REGULAR</td>\n      <td>2020-05-15T09:46:07.000Z</td>\n    </tr>\n  </tbody>\n</table>\n<p>27 rows × 30 columns</p>\n</div>"
     },
     "execution_count": 50,
     "metadata": {},
     "output_type": "execute_result"
    }
   ],
   "source": [
    "final_destination=df.where(df['stationShortCode'] == 'HKI').dropna(subset=['stationShortCode'])\n",
    "final_destination # dropped all non-final station rows"
   ],
   "metadata": {
    "collapsed": false,
    "pycharm": {
     "name": "#%%\n"
    }
   }
  },
  {
   "cell_type": "markdown",
   "metadata": {
    "pycharm": {
     "name": "#%% md\n"
    }
   },
   "source": [
    "### Baseline answer, to the minute:\n",
    "- `differenceinMinutes` column is the timedelta between `actualTime` and `scheduledTime` was calculated by API data provider,\n",
    "rounded by the minutes.\n",
    "- For example, 10s is rounded down to 0 minutes, but 36s is rounded up to 1 minute.\n",
    "- Hence this is at best a quick proxy answer."
   ]
  },
  {
   "cell_type": "code",
   "execution_count": 51,
   "outputs": [
    {
     "name": "stdout",
     "output_type": "stream",
     "text": [
      "1.7777777777777777\n"
     ]
    }
   ],
   "source": [
    "mean_delta_in_minutes = final_destination['differenceInMinutes'].mean()\n",
    "print(mean_delta_in_minutes)"
   ],
   "metadata": {
    "collapsed": false,
    "pycharm": {
     "name": "#%%\n"
    }
   }
  },
  {
   "cell_type": "markdown",
   "metadata": {
    "pycharm": {
     "name": "#%% md\n"
    }
   },
   "source": [
    "#### Convert `actualTime` and `scheduledTime` into timestamp, thus calculate time_delta in seconds"
   ]
  },
  {
   "cell_type": "code",
   "execution_count": 54,
   "outputs": [],
   "source": [
    "date_format = \"%Y-%m-%dT%H:%M:%S.%fZ\"\n",
    "final_destination['actualTime_timestamp'] = pd.to_datetime(df['actualTime'], format=date_format)\n",
    "final_destination['scheduledTime_timestamp'] = pd.to_datetime(df['scheduledTime'], format=date_format)\n",
    "\n",
    "final_destination['differenceInSeconds'] = (final_destination['actualTime_timestamp'] \n",
    "                                            - final_destination['scheduledTime_timestamp']).astype('timedelta64[s]')"
   ],
   "metadata": {
    "collapsed": false,
    "pycharm": {
     "name": "#%%\n"
    }
   }
  },
  {
   "cell_type": "markdown",
   "metadata": {
    "pycharm": {
     "name": "#%% md\n"
    }
   },
   "source": [
    "### A more precise answer, to the second:"
   ]
  },
  {
   "cell_type": "code",
   "execution_count": 56,
   "metadata": {
    "pycharm": {
     "name": "#%%\n"
    }
   },
   "outputs": [
    {
     "name": "stdout",
     "output_type": "stream",
     "text": [
      "101.55555555555556\n"
     ]
    }
   ],
   "source": [
    "mean_delta_in_seconds =(final_destination['actualTime_timestamp']\n",
    "                        - final_destination['scheduledTime_timestamp']).dt.total_seconds().mean()\n",
    "print(mean_delta_in_seconds)"
   ]
  }
 ],
 "metadata": {
  "kernelspec": {
   "display_name": "Python 3 (ipykernel)",
   "language": "python",
   "name": "python3"
  },
  "language_info": {
   "codemirror_mode": {
    "name": "ipython",
    "version": 3
   },
   "file_extension": ".py",
   "mimetype": "text/x-python",
   "name": "python",
   "nbconvert_exporter": "python",
   "pygments_lexer": "ipython3",
   "version": "3.7.9"
  }
 },
 "nbformat": 4,
 "nbformat_minor": 1
}